{
 "cells": [
  {
   "cell_type": "code",
   "execution_count": 6,
   "metadata": {},
   "outputs": [],
   "source": [
    "import dspy\n",
    "from dspy.datasets import HotPotQA"
   ]
  },
  {
   "cell_type": "code",
   "execution_count": 7,
   "metadata": {},
   "outputs": [],
   "source": [
    "import os\n",
    "from dotenv import load_dotenv\n",
    "load_dotenv('../.env')\n",
    "OPENAI_API_KEY = os.getenv('OPENAI_API_KEY')"
   ]
  },
  {
   "cell_type": "markdown",
   "metadata": {},
   "source": [
    "### Basic Setup of Data + DSPy config"
   ]
  },
  {
   "cell_type": "code",
   "execution_count": 8,
   "metadata": {},
   "outputs": [
    {
     "name": "stderr",
     "output_type": "stream",
     "text": [
      "c:\\Users\\wsutt\\OneDrive\\Desktop\\files\\dev\\llms\\pkgs\\dspy-pkgs\\editvenv\\lib\\site-packages\\datasets\\table.py:1421: FutureWarning: promote has been superseded by promote_options='default'.\n",
      "  table = cls._concat_blocks(blocks, axis=0)\n"
     ]
    }
   ],
   "source": [
    "turbo = dspy.OpenAI(model='gpt-3.5-turbo', api_key=OPENAI_API_KEY)\n",
    "colbertv2_wiki17_abstracts = dspy.ColBERTv2(url='http://20.102.90.50:2017/wiki17_abstracts')\n",
    "\n",
    "dspy.settings.configure(lm=turbo, rm=colbertv2_wiki17_abstracts)\n",
    "\n",
    "dataset = HotPotQA(train_seed=1, train_size=20, eval_seed=2023, dev_size=50, test_size=0)\n",
    "\n",
    "trainset = [x.with_inputs('question') for x in dataset.train]\n",
    "devset = [x.with_inputs('question') for x in dataset.dev]"
   ]
  },
  {
   "cell_type": "code",
   "execution_count": 107,
   "metadata": {},
   "outputs": [],
   "source": [
    "# save these datasets so we can reload them \n",
    "# without having to laod hotpotqa again\n",
    "import json\n",
    "def serialize(d):\n",
    "    out = {}\n",
    "    for k, v in d.items():\n",
    "        if isinstance(v, set): out[k] = list(v)\n",
    "        else:out[k] = v\n",
    "    return out\n",
    "json.dump([e.toDict() for e in trainset], open('data/trainset.json', 'w'), indent=2)\n",
    "json.dump([serialize(e.toDict()) for e in devset], open('data/devset.json', 'w'), indent=2)"
   ]
  },
  {
   "cell_type": "code",
   "execution_count": 27,
   "metadata": {},
   "outputs": [],
   "source": [
    "class GenerateAnswer(dspy.Signature):\n",
    "    \"\"\"Answer questions with short factoid answers.\"\"\"\n",
    "\n",
    "    context = dspy.InputField(desc=\"may contain relevant facts\")\n",
    "    question = dspy.InputField()\n",
    "    answer = dspy.OutputField(desc=\"often between 1 and 5 words\")\n",
    "\n",
    "class RAG(dspy.Module):\n",
    "    def __init__(self, num_passages=3):\n",
    "        super().__init__()\n",
    "\n",
    "        self.retrieve = dspy.Retrieve(k=num_passages)\n",
    "        self.generate_answer = dspy.ChainOfThought(GenerateAnswer)\n",
    "    \n",
    "    def forward(self, question):\n",
    "        context = self.retrieve(question).passages\n",
    "        prediction = self.generate_answer(context=context, question=question)\n",
    "        return dspy.Prediction(context=context, answer=prediction.answer)"
   ]
  },
  {
   "cell_type": "code",
   "execution_count": 28,
   "metadata": {},
   "outputs": [
    {
     "name": "stdout",
     "output_type": "stream",
     "text": [
      "Are both Cangzhou and Qionghai in the Hebei province of China? no\n"
     ]
    },
    {
     "data": {
      "text/plain": [
       "Prediction(\n",
       "    context=['Cangzhou | Cangzhou () is a prefecture-level city in eastern Hebei province, People\\'s Republic of China. At the 2010 census, Cangzhou\\'s built-up (\"or metro\") area made of Yunhe, Xinhua districts and Cang County largely being conurbated had a population of 1,205,814 inhabitants, while the prefecture-level administrative unit in total has a population of 7,134,062. It lies approximately 90 km from the major port city of Tianjin, and 180 km from Beijing.', 'Haixing County | Haixing County () is a county of southeastern Hebei province, China, bordering Shandong to the southeast. It is administered by Cangzhou City, and, , had a population of 220,000 residing in an area of 836 km2 . Both G18 Rongcheng–Wuhai Expressway and G25 Changchun–Shenzhen Expressway pass through the county.', \"Dongguang County | Dongguang County () is a county under the jurisdiction of Cangzhou City, in southeastern Hebei province, People's Republic of China, bordering Shandong to the southeast.\"],\n",
       "    answer='No'\n",
       ")"
      ]
     },
     "execution_count": 28,
     "metadata": {},
     "output_type": "execute_result"
    }
   ],
   "source": [
    "# demonstrate basic inference \n",
    "i = 0\n",
    "print(devset[i].question, devset[i].answer)\n",
    "uncompiled_rag = RAG()\n",
    "uncompiled_rag(question = devset[0].question)"
   ]
  },
  {
   "cell_type": "code",
   "execution_count": 29,
   "metadata": {},
   "outputs": [
    {
     "name": "stderr",
     "output_type": "stream",
     "text": [
      " 55%|█████▌    | 11/20 [00:00<00:00, 576.26it/s]"
     ]
    },
    {
     "name": "stdout",
     "output_type": "stream",
     "text": [
      "Bootstrapped 4 full traces after 12 examples in round 0.\n"
     ]
    },
    {
     "name": "stderr",
     "output_type": "stream",
     "text": [
      "\n"
     ]
    }
   ],
   "source": [
    "from dspy.teleprompt import BootstrapFewShot\n",
    "\n",
    "# Validation logic: check that the predicted answer is correct.\n",
    "# Also check that the retrieved context does actually contain that answer.\n",
    "def validate_context_and_answer(example, pred, trace=None):\n",
    "    answer_EM = dspy.evaluate.answer_exact_match(example, pred)\n",
    "    answer_PM = dspy.evaluate.answer_passage_match(example, pred)\n",
    "    return answer_EM and answer_PM\n",
    "\n",
    "# Set up a basic teleprompter, which will compile our RAG program.\n",
    "teleprompter = BootstrapFewShot(metric=validate_context_and_answer)\n",
    "\n",
    "# Compile!\n",
    "compiled_rag = teleprompter.compile(RAG(), trainset=trainset)"
   ]
  },
  {
   "cell_type": "code",
   "execution_count": 30,
   "metadata": {},
   "outputs": [
    {
     "data": {
      "text/plain": [
       "(__main__.RAG, __main__.RAG)"
      ]
     },
     "execution_count": 30,
     "metadata": {},
     "output_type": "execute_result"
    }
   ],
   "source": [
    "# notice even uncopiled it's the same type\n",
    "type(uncompiled_rag), type(compiled_rag)"
   ]
  },
  {
   "cell_type": "markdown",
   "metadata": {},
   "source": [
    "### Prove that we can save/load compiled rag\n",
    "- And then run a valid inference on loaded pipeline"
   ]
  },
  {
   "cell_type": "code",
   "execution_count": 44,
   "metadata": {},
   "outputs": [],
   "source": [
    "model_fn = 'data/compiled_1.json'\n",
    "compiled_rag.save(model_fn)"
   ]
  },
  {
   "cell_type": "code",
   "execution_count": 46,
   "metadata": {},
   "outputs": [
    {
     "data": {
      "text/plain": [
       "Prediction(\n",
       "    context=['Cangzhou | Cangzhou () is a prefecture-level city in eastern Hebei province, People\\'s Republic of China. At the 2010 census, Cangzhou\\'s built-up (\"or metro\") area made of Yunhe, Xinhua districts and Cang County largely being conurbated had a population of 1,205,814 inhabitants, while the prefecture-level administrative unit in total has a population of 7,134,062. It lies approximately 90 km from the major port city of Tianjin, and 180 km from Beijing.', 'Haixing County | Haixing County () is a county of southeastern Hebei province, China, bordering Shandong to the southeast. It is administered by Cangzhou City, and, , had a population of 220,000 residing in an area of 836 km2 . Both G18 Rongcheng–Wuhai Expressway and G25 Changchun–Shenzhen Expressway pass through the county.', \"Dongguang County | Dongguang County () is a county under the jurisdiction of Cangzhou City, in southeastern Hebei province, People's Republic of China, bordering Shandong to the southeast.\"],\n",
       "    answer='Yes'\n",
       ")"
      ]
     },
     "execution_count": 46,
     "metadata": {},
     "output_type": "execute_result"
    }
   ],
   "source": [
    "# create, load, invoke\n",
    "new_rag = RAG()\n",
    "new_rag.load(model_fn)\n",
    "new_rag(question = devset[0].question)"
   ]
  },
  {
   "cell_type": "markdown",
   "metadata": {},
   "source": [
    "### Eval both rag programs on `devset`"
   ]
  },
  {
   "cell_type": "code",
   "execution_count": 47,
   "metadata": {},
   "outputs": [],
   "source": [
    "from dspy.evaluate.evaluate import Evaluate\n",
    "\n",
    "compiled_eval = Evaluate(\n",
    "    devset=devset, \n",
    "    num_threads=1, \n",
    "    display_progress=True, \n",
    "    # display_table=5,\n",
    ")\n",
    "\n",
    "metric = dspy.evaluate.answer_exact_match"
   ]
  },
  {
   "cell_type": "code",
   "execution_count": 48,
   "metadata": {},
   "outputs": [
    {
     "name": "stderr",
     "output_type": "stream",
     "text": [
      "Average Metric: 27 / 50  (54.0): 100%|██████████| 50/50 [00:00<00:00, 939.72it/s]"
     ]
    },
    {
     "name": "stdout",
     "output_type": "stream",
     "text": [
      "Average Metric: 27 / 50  (54.0%)\n"
     ]
    },
    {
     "name": "stderr",
     "output_type": "stream",
     "text": [
      "\n",
      "c:\\users\\wsutt\\onedrive\\desktop\\files\\dev\\llms\\pkgs\\dspy-pkgs\\pkgs\\dspy\\dspy\\evaluate\\evaluate.py:145: FutureWarning: DataFrame.applymap has been deprecated. Use DataFrame.map instead.\n",
      "  df = df.applymap(truncate_cell)\n"
     ]
    }
   ],
   "source": [
    "outputs_compiled = compiled_eval(compiled_rag, metric=metric, return_outputs=True)"
   ]
  },
  {
   "cell_type": "code",
   "execution_count": 49,
   "metadata": {},
   "outputs": [
    {
     "name": "stderr",
     "output_type": "stream",
     "text": [
      "Average Metric: 27 / 50  (54.0): 100%|██████████| 50/50 [00:00<00:00, 1237.82it/s]"
     ]
    },
    {
     "name": "stdout",
     "output_type": "stream",
     "text": [
      "Average Metric: 27 / 50  (54.0%)\n"
     ]
    },
    {
     "name": "stderr",
     "output_type": "stream",
     "text": [
      "\n"
     ]
    }
   ],
   "source": [
    "outputs_uncompiled = compiled_eval(uncompiled_rag, metric=metric, return_outputs=True)"
   ]
  },
  {
   "cell_type": "code",
   "execution_count": 36,
   "metadata": {},
   "outputs": [
    {
     "data": {
      "text/plain": [
       "(54.0, 54.0)"
      ]
     },
     "execution_count": 36,
     "metadata": {},
     "output_type": "execute_result"
    }
   ],
   "source": [
    "# they get the same score\n",
    "outputs_compiled[0], outputs_uncompiled[0]"
   ]
  },
  {
   "cell_type": "markdown",
   "metadata": {},
   "source": [
    "### See if there were any differences in the results\n",
    " - even tho score is the same"
   ]
  },
  {
   "cell_type": "code",
   "execution_count": 67,
   "metadata": {},
   "outputs": [],
   "source": [
    "import pandas as pd\n",
    "from IPython.display import display"
   ]
  },
  {
   "cell_type": "code",
   "execution_count": 65,
   "metadata": {},
   "outputs": [
    {
     "data": {
      "text/plain": [
       "{'question': 'Are both Cangzhou and Qionghai in the Hebei province of China?',\n",
       " 'answer': 'no',\n",
       " 'gold_titles': {'Cangzhou', 'Qionghai'},\n",
       " 'dspy_uuid': '73181150-9dc4-45f1-8f2f-543e675de741',\n",
       " 'dspy_split': 'dev'}"
      ]
     },
     "execution_count": 65,
     "metadata": {},
     "output_type": "execute_result"
    }
   ],
   "source": [
    "outputs_compiled[1][0][0].toDict()"
   ]
  },
  {
   "cell_type": "code",
   "execution_count": 102,
   "metadata": {},
   "outputs": [
    {
     "data": {
      "text/html": [
       "<div>\n",
       "<style scoped>\n",
       "    .dataframe tbody tr th:only-of-type {\n",
       "        vertical-align: middle;\n",
       "    }\n",
       "\n",
       "    .dataframe tbody tr th {\n",
       "        vertical-align: top;\n",
       "    }\n",
       "\n",
       "    .dataframe thead th {\n",
       "        text-align: right;\n",
       "    }\n",
       "</style>\n",
       "<table border=\"1\" class=\"dataframe\">\n",
       "  <thead>\n",
       "    <tr style=\"text-align: right;\">\n",
       "      <th></th>\n",
       "      <th>question</th>\n",
       "      <th>answer</th>\n",
       "    </tr>\n",
       "  </thead>\n",
       "  <tbody>\n",
       "    <tr>\n",
       "      <th>0</th>\n",
       "      <td>Are both Cangzhou and Qionghai in the Hebei province of China?</td>\n",
       "      <td>no</td>\n",
       "    </tr>\n",
       "    <tr>\n",
       "      <th>1</th>\n",
       "      <td>Who conducts the draft in which Marc-Andre Fleury was drafted to the Vegas Golden Knights for the 2017-18 season?</td>\n",
       "      <td>National Hockey League</td>\n",
       "    </tr>\n",
       "    <tr>\n",
       "      <th>2</th>\n",
       "      <td>The Wings entered a new era, following the retirement of which Canadian retired professional ice hockey player and current general manager of the Tampa Bay Lightning of the National Hockey League (NHL)?</td>\n",
       "      <td>Steve Yzerman</td>\n",
       "    </tr>\n",
       "  </tbody>\n",
       "</table>\n",
       "</div>"
      ],
      "text/plain": [
       "                                                                                                                                                                                                     question  \\\n",
       "0                                                                                                                                              Are both Cangzhou and Qionghai in the Hebei province of China?   \n",
       "1                                                                                           Who conducts the draft in which Marc-Andre Fleury was drafted to the Vegas Golden Knights for the 2017-18 season?   \n",
       "2  The Wings entered a new era, following the retirement of which Canadian retired professional ice hockey player and current general manager of the Tampa Bay Lightning of the National Hockey League (NHL)?   \n",
       "\n",
       "                   answer  \n",
       "0                      no  \n",
       "1  National Hockey League  \n",
       "2           Steve Yzerman  "
      ]
     },
     "execution_count": 102,
     "metadata": {},
     "output_type": "execute_result"
    }
   ],
   "source": [
    "def get_qa_tbl(outputs):\n",
    "    qa_tbl = [e[0].toDict() for e in outputs[1]]\n",
    "              \n",
    "    qa_tbl = pd.DataFrame(qa_tbl, \n",
    "                columns=outputs[1][0][0].toDict().keys()\n",
    "    )\n",
    "    qa_tbl = qa_tbl[['question', 'answer']]\n",
    "    return qa_tbl\n",
    "\n",
    "qa_tbl = get_qa_tbl(outputs_compiled)\n",
    "qa_tbl.head(3)"
   ]
  },
  {
   "cell_type": "code",
   "execution_count": 103,
   "metadata": {},
   "outputs": [
    {
     "data": {
      "text/html": [
       "<div>\n",
       "<style scoped>\n",
       "    .dataframe tbody tr th:only-of-type {\n",
       "        vertical-align: middle;\n",
       "    }\n",
       "\n",
       "    .dataframe tbody tr th {\n",
       "        vertical-align: top;\n",
       "    }\n",
       "\n",
       "    .dataframe thead th {\n",
       "        text-align: right;\n",
       "    }\n",
       "</style>\n",
       "<table border=\"1\" class=\"dataframe\">\n",
       "  <thead>\n",
       "    <tr style=\"text-align: right;\">\n",
       "      <th></th>\n",
       "      <th>response</th>\n",
       "      <th>grade</th>\n",
       "    </tr>\n",
       "  </thead>\n",
       "  <tbody>\n",
       "    <tr>\n",
       "      <th>0</th>\n",
       "      <td>Yes</td>\n",
       "      <td>False</td>\n",
       "    </tr>\n",
       "    <tr>\n",
       "      <th>1</th>\n",
       "      <td>National Hockey League</td>\n",
       "      <td>True</td>\n",
       "    </tr>\n",
       "    <tr>\n",
       "      <th>2</th>\n",
       "      <td>Steve Yzerman</td>\n",
       "      <td>True</td>\n",
       "    </tr>\n",
       "  </tbody>\n",
       "</table>\n",
       "</div>"
      ],
      "text/plain": [
       "                 response  grade\n",
       "0                     Yes  False\n",
       "1  National Hockey League   True\n",
       "2           Steve Yzerman   True"
      ]
     },
     "metadata": {},
     "output_type": "display_data"
    }
   ],
   "source": [
    "def get_answer_grade_tbl(outputs):\n",
    "    ag_tbl = [e[1].toDict() for e in outputs[1]]\n",
    "    ag_tbl = pd.DataFrame(ag_tbl, columns=outputs[1][1][0].toDict().keys())\n",
    "    grade_tbl = [{'grade': e[2]} for e in outputs[1]]\n",
    "    grade_tbl = pd.DataFrame(grade_tbl, columns=['grade'])\n",
    "    tbl = pd.concat([ag_tbl, grade_tbl], axis=1)\n",
    "    # rename col answer -> response\n",
    "    tbl = tbl.rename(columns={'answer': 'response'})\n",
    "    tbl = tbl[['response', 'grade']]\n",
    "    return tbl\n",
    "\n",
    "tbl_compiled = get_answer_grade_tbl(outputs_compiled)\n",
    "tbl_uncompiled = get_answer_grade_tbl(outputs_uncompiled)\n",
    "\n",
    "display(tbl_compiled.head(3))"
   ]
  },
  {
   "cell_type": "code",
   "execution_count": 105,
   "metadata": {},
   "outputs": [
    {
     "data": {
      "text/html": [
       "<div>\n",
       "<style scoped>\n",
       "    .dataframe tbody tr th:only-of-type {\n",
       "        vertical-align: middle;\n",
       "    }\n",
       "\n",
       "    .dataframe tbody tr th {\n",
       "        vertical-align: top;\n",
       "    }\n",
       "\n",
       "    .dataframe thead tr th {\n",
       "        text-align: left;\n",
       "    }\n",
       "</style>\n",
       "<table border=\"1\" class=\"dataframe\">\n",
       "  <thead>\n",
       "    <tr>\n",
       "      <th></th>\n",
       "      <th colspan=\"2\" halign=\"left\">compiled</th>\n",
       "      <th colspan=\"2\" halign=\"left\">uncompiled</th>\n",
       "    </tr>\n",
       "    <tr>\n",
       "      <th></th>\n",
       "      <th>response</th>\n",
       "      <th>grade</th>\n",
       "      <th>response</th>\n",
       "      <th>grade</th>\n",
       "    </tr>\n",
       "  </thead>\n",
       "  <tbody>\n",
       "    <tr>\n",
       "      <th>0</th>\n",
       "      <td>Yes</td>\n",
       "      <td>False</td>\n",
       "      <td>No</td>\n",
       "      <td>True</td>\n",
       "    </tr>\n",
       "    <tr>\n",
       "      <th>21</th>\n",
       "      <td>Deepa Mehta</td>\n",
       "      <td>True</td>\n",
       "      <td>Tony Kaye</td>\n",
       "      <td>False</td>\n",
       "    </tr>\n",
       "    <tr>\n",
       "      <th>22</th>\n",
       "      <td>the good market or the good deal</td>\n",
       "      <td>False</td>\n",
       "      <td>The Good Market</td>\n",
       "      <td>True</td>\n",
       "    </tr>\n",
       "    <tr>\n",
       "      <th>38</th>\n",
       "      <td>Exon.</td>\n",
       "      <td>True</td>\n",
       "      <td>University of Exeter</td>\n",
       "      <td>False</td>\n",
       "    </tr>\n",
       "  </tbody>\n",
       "</table>\n",
       "</div>"
      ],
      "text/plain": [
       "                            compiled                   uncompiled       \n",
       "                            response  grade              response  grade\n",
       "0                                Yes  False                    No   True\n",
       "21                       Deepa Mehta   True             Tony Kaye  False\n",
       "22  the good market or the good deal  False       The Good Market   True\n",
       "38                             Exon.   True  University of Exeter  False"
      ]
     },
     "metadata": {},
     "output_type": "display_data"
    }
   ],
   "source": [
    "# view where it scored differently\n",
    "cmp = pd.concat([tbl_compiled, tbl_uncompiled], axis=1, keys=['compiled', 'uncompiled'])\n",
    "diff_ind = cmp['compiled']['grade'] != cmp['uncompiled']['grade']\n",
    "display(cmp[diff_ind])"
   ]
  },
  {
   "cell_type": "code",
   "execution_count": 106,
   "metadata": {},
   "outputs": [
    {
     "data": {
      "text/html": [
       "<div>\n",
       "<style scoped>\n",
       "    .dataframe tbody tr th:only-of-type {\n",
       "        vertical-align: middle;\n",
       "    }\n",
       "\n",
       "    .dataframe tbody tr th {\n",
       "        vertical-align: top;\n",
       "    }\n",
       "\n",
       "    .dataframe thead th {\n",
       "        text-align: right;\n",
       "    }\n",
       "</style>\n",
       "<table border=\"1\" class=\"dataframe\">\n",
       "  <thead>\n",
       "    <tr style=\"text-align: right;\">\n",
       "      <th></th>\n",
       "      <th>question</th>\n",
       "      <th>answer</th>\n",
       "      <th>(compiled, response)</th>\n",
       "      <th>(compiled, grade)</th>\n",
       "      <th>(uncompiled, response)</th>\n",
       "      <th>(uncompiled, grade)</th>\n",
       "    </tr>\n",
       "  </thead>\n",
       "  <tbody>\n",
       "    <tr>\n",
       "      <th>0</th>\n",
       "      <td>Are both Cangzhou and Qionghai in the Hebei province of China?</td>\n",
       "      <td>no</td>\n",
       "      <td>Yes</td>\n",
       "      <td>False</td>\n",
       "      <td>No</td>\n",
       "      <td>True</td>\n",
       "    </tr>\n",
       "    <tr>\n",
       "      <th>21</th>\n",
       "      <td>Who was born first, Tony Kaye or Deepa Mehta?</td>\n",
       "      <td>Deepa Mehta</td>\n",
       "      <td>Deepa Mehta</td>\n",
       "      <td>True</td>\n",
       "      <td>Tony Kaye</td>\n",
       "      <td>False</td>\n",
       "    </tr>\n",
       "    <tr>\n",
       "      <th>22</th>\n",
       "      <td>What is the English translation of the name of the store that Macy's replaced in Boise Town Square?</td>\n",
       "      <td>the good market</td>\n",
       "      <td>the good market or the good deal</td>\n",
       "      <td>False</td>\n",
       "      <td>The Good Market</td>\n",
       "      <td>True</td>\n",
       "    </tr>\n",
       "    <tr>\n",
       "      <th>38</th>\n",
       "      <td>What is the post-nominal abbreviation for the university where the Banded Mongoose Research Project is based?</td>\n",
       "      <td>Exon</td>\n",
       "      <td>Exon.</td>\n",
       "      <td>True</td>\n",
       "      <td>University of Exeter</td>\n",
       "      <td>False</td>\n",
       "    </tr>\n",
       "  </tbody>\n",
       "</table>\n",
       "</div>"
      ],
      "text/plain": [
       "                                                                                                         question  \\\n",
       "0                                                  Are both Cangzhou and Qionghai in the Hebei province of China?   \n",
       "21                                                                  Who was born first, Tony Kaye or Deepa Mehta?   \n",
       "22            What is the English translation of the name of the store that Macy's replaced in Boise Town Square?   \n",
       "38  What is the post-nominal abbreviation for the university where the Banded Mongoose Research Project is based?   \n",
       "\n",
       "             answer              (compiled, response)  (compiled, grade)  \\\n",
       "0                no                               Yes              False   \n",
       "21      Deepa Mehta                       Deepa Mehta               True   \n",
       "22  the good market  the good market or the good deal              False   \n",
       "38             Exon                             Exon.               True   \n",
       "\n",
       "   (uncompiled, response)  (uncompiled, grade)  \n",
       "0                      No                 True  \n",
       "21              Tony Kaye                False  \n",
       "22        The Good Market                 True  \n",
       "38   University of Exeter                False  "
      ]
     },
     "metadata": {},
     "output_type": "display_data"
    }
   ],
   "source": [
    "# attach question/answer to diff responses, analyze...\n",
    "with pd.option_context  ('display.max_colwidth', None):\n",
    "    display(pd.concat([qa_tbl[diff_ind], cmp[diff_ind]], axis=1))"
   ]
  },
  {
   "cell_type": "code",
   "execution_count": null,
   "metadata": {},
   "outputs": [],
   "source": [
    "# so really there's:\n",
    "# - first one which rag get's wrong and generic get's right (more by chance (?))\n",
    "# - then rag get's two clearly correct where generic get's wrong\n",
    "# - and on the rag we get marked incorrect for fuzzy match\n",
    "#  so... rag is slightly better\n"
   ]
  }
 ],
 "metadata": {
  "kernelspec": {
   "display_name": "py39",
   "language": "python",
   "name": "python3"
  },
  "language_info": {
   "codemirror_mode": {
    "name": "ipython",
    "version": 3
   },
   "file_extension": ".py",
   "mimetype": "text/x-python",
   "name": "python",
   "nbconvert_exporter": "python",
   "pygments_lexer": "ipython3",
   "version": "3.9.10"
  },
  "orig_nbformat": 4
 },
 "nbformat": 4,
 "nbformat_minor": 2
}
